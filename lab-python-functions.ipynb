{
 "cells": [
  {
   "cell_type": "markdown",
   "id": "25d7736c-ba17-4aff-b6bb-66eba20fbf4e",
   "metadata": {},
   "source": [
    "# Lab | Functions"
   ]
  },
  {
   "cell_type": "markdown",
   "id": "0c581062-8967-4d93-b06e-62833222f930",
   "metadata": {
    "tags": []
   },
   "source": [
    "## Exercise: Managing Customer Orders with Functions\n",
    "\n",
    "In the previous exercise, you improved the code for managing customer orders by using loops and flow control. Now, let's take it a step further and refactor the code by introducing functions.\n",
    "\n",
    "Follow the steps below to complete the exercise:\n",
    "1. Define a function named `initialize_inventory` that takes `products` as a parameter. Inside the function, implement the code for initializing the inventory dictionary using a loop and user input.\n",
    "\n",
    "\n",
    "2. Define a function named `get_customer_orders` that takes no parameters. Inside the function, implement the code for prompting the user to enter the product names using a loop. The function should return the `customer_orders` set.\n",
    "\n",
    "3. Define a function named `update_inventory` that takes `customer_orders` and `inventory` as parameters. Inside the function, implement the code for updating the inventory dictionary based on the customer orders.\n",
    "\n",
    "4. Define a function named `calculate_order_statistics` that takes `customer_orders` and `products` as parameters. Inside the function, implement the code for calculating the order statistics (total products ordered, and percentage of unique products ordered). The function should return these values.\n",
    "\n",
    "5. Define a function named `print_order_statistics` that takes `order_statistics` as a parameter. Inside the function, implement the code for printing the order statistics.\n",
    "\n",
    "6. Define a function named `print_updated_inventory` that takes `inventory` as a parameter. Inside the function, implement the code for printing the updated inventory.\n",
    "\n",
    "7. Call the functions in the appropriate sequence to execute the program and manage customer orders.\n",
    "\n",
    "Hints for functions:\n",
    "\n",
    "- Consider the input parameters required for each function and their return values.\n",
    "- Utilize function parameters and return values to transfer data between functions.\n",
    "- Test your functions individually to ensure they work correctly.\n",
    "\n",
    "\n"
   ]
  },
  {
   "cell_type": "code",
   "execution_count": 76,
   "id": "d9189928",
   "metadata": {},
   "outputs": [],
   "source": [
    "# 1. Define a function named `initialize_inventory` that takes `products` as a parameter. Inside the function, implement the code for \n",
    "# initializing the inventory dictionary using a loop and user input.\n",
    "# 2. Define a function named `get_customer_orders` that takes no parameters. Inside the function, implement the code for prompting the user to \n",
    "# enter the product names using a loop. The function should return the `customer_orders` set.\n",
    "\n",
    "def initialize_inventory(products, inventory):\n",
    "    for product in products:\n",
    "        inventory[product] = int(input(f'Please enter the quantity of {product}: '))\n",
    "    print(f'The inventory is: {inventory}')\n",
    "\n",
    "def get_customer_orders():\n",
    "    while True:\n",
    "        yes_no_input = input('Do you want to order something? Answer yes/no')\n",
    "\n",
    "        if yes_no_input.lower() == 'yes':\n",
    "            product_wanted = input('Enter the product ordered by the customer:')\n",
    "            customer_orders.add(product_wanted)\n",
    "        elif yes_no_input.lower() == 'no':\n",
    "            break\n",
    "        else:\n",
    "            print('Enter a valid input')\n",
    "    print(f'The products ordered by the customer are: {customer_orders}')    \n"
   ]
  },
  {
   "cell_type": "code",
   "execution_count": 77,
   "id": "08e63580",
   "metadata": {},
   "outputs": [
    {
     "name": "stdout",
     "output_type": "stream",
     "text": [
      "The inventory is: {'t-shirt': 4, 'mug': 4, 'hat': 4, 'book': 4, 'keychain': 4}\n",
      "The products ordered by the customer are: {'book', 'mug'}\n"
     ]
    }
   ],
   "source": [
    "products = ['t-shirt', 'mug', 'hat', 'book', 'keychain']\n",
    "inventory = {}\n",
    "customer_orders = set()\n",
    "\n",
    "initialize_inventory(products, inventory)\n",
    "get_customer_orders()"
   ]
  },
  {
   "cell_type": "code",
   "execution_count": 85,
   "id": "b40eb0f6",
   "metadata": {},
   "outputs": [
    {
     "name": "stdout",
     "output_type": "stream",
     "text": [
      "{'t-shirt': 4, 'mug': 2, 'hat': 4, 'book': 2, 'keychain': 4}\n"
     ]
    }
   ],
   "source": [
    "# 3. Define a function named `update_inventory` that takes `customer_orders` and `inventory` as parameters. Inside the function, implement \n",
    "# the code for updating the inventory dictionary based on the customer orders.\n",
    "\n",
    "def update_inventory(customer_orders, inventory):\n",
    "    for element in customer_orders:\n",
    "        for key, value in inventory.items():\n",
    "            if key == element:\n",
    "                inventory[key]= value - 1\n",
    "        \n",
    "    return inventory\n",
    "\n",
    "inventory = update_inventory(customer_orders, inventory)\n",
    "print(inventory)"
   ]
  },
  {
   "cell_type": "code",
   "execution_count": 87,
   "id": "dce4fca4",
   "metadata": {},
   "outputs": [],
   "source": [
    "\n",
    "# 4.4. Define a function named `calculate_order_statistics` that takes `customer_orders` and `products` as parameters. Inside the function, \n",
    "# implement the code for calculating the order statistics (total products ordered, and percentage of unique products ordered). The function should return these values.\n",
    "\n",
    "def calculate_order_statistics(customer_orders, products):\n",
    "    total_products_ordered = len(customer_orders)\n",
    "    percentage_customer_orders = (len(customer_orders)/len(products))*100\n",
    "    \n",
    "    order_statistics = (total_products_ordered,percentage_customer_orders)\n",
    "    return order_statistics\n",
    "\n",
    "order_statistics = calculate_order_statistics(customer_orders, products)"
   ]
  },
  {
   "cell_type": "code",
   "execution_count": 57,
   "id": "e045bc4d",
   "metadata": {},
   "outputs": [
    {
     "name": "stdout",
     "output_type": "stream",
     "text": [
      "Total products ordered is: 2\n",
      "Percentage of unique products ordered is: 40.0%\n"
     ]
    }
   ],
   "source": [
    "# 5. Define a function named `print_order_statistics` that takes `order_statistics` as a parameter. Inside the function, implement the code for \n",
    "# printing the order statistics.\n",
    "\n",
    "def print_order_statistics(order_statistics):\n",
    "    print(f'Total products ordered is: {order_statistics[0]}')\n",
    "    print(f'Percentage of unique products ordered is: {order_statistics[1]}%')\n",
    "\n",
    "\n",
    "\n",
    "print_order_statistics(order_statistics)"
   ]
  },
  {
   "cell_type": "code",
   "execution_count": 66,
   "id": "3ca56c7c",
   "metadata": {},
   "outputs": [
    {
     "name": "stdout",
     "output_type": "stream",
     "text": [
      "Updated inventory: {'t-shirt': 5, 'mug': 0, 'hat': 5, 'book': 0, 'keychain': 5}\n"
     ]
    }
   ],
   "source": [
    "# 6. Define a function named `print_updated_inventory` that takes `inventory` as a parameter. Inside the function, implement the code for printing \n",
    "# the updated inventory.\n",
    "\n",
    "def print_updated_inventory(inventory):\n",
    "    print(f'Updated inventory: {inventory}')\n",
    "\n",
    "print_updated_inventory(inventory)"
   ]
  },
  {
   "cell_type": "code",
   "execution_count": 88,
   "id": "c994213e",
   "metadata": {},
   "outputs": [
    {
     "name": "stdout",
     "output_type": "stream",
     "text": [
      "The inventory is: {'t-shirt': 5, 'mug': 5, 'hat': 5, 'book': 5, 'keychain': 5}\n",
      "The products ordered by the customer are: {'book', 'mug'}\n",
      "Total products ordered is: 2\n",
      "Percentage of unique products ordered is: 40.0%\n",
      "Updated inventory: {'t-shirt': 5, 'mug': 4, 'hat': 5, 'book': 4, 'keychain': 5}\n"
     ]
    }
   ],
   "source": [
    "# 7. Call the functions in the appropriate sequence to execute the program and manage customer orders.\n",
    "\n",
    "products = ['t-shirt', 'mug', 'hat', 'book', 'keychain']\n",
    "inventory = {}\n",
    "customer_orders = set()\n",
    "\n",
    "initialize_inventory(products, inventory)\n",
    "get_customer_orders()\n",
    "inventory = update_inventory(customer_orders, inventory)\n",
    "order_statistics = calculate_order_statistics(customer_orders, products)\n",
    "print_order_statistics(order_statistics)\n",
    "print_updated_inventory(inventory)"
   ]
  }
 ],
 "metadata": {
  "kernelspec": {
   "display_name": "Python 3 (ipykernel)",
   "language": "python",
   "name": "python3"
  },
  "language_info": {
   "codemirror_mode": {
    "name": "ipython",
    "version": 3
   },
   "file_extension": ".py",
   "mimetype": "text/x-python",
   "name": "python",
   "nbconvert_exporter": "python",
   "pygments_lexer": "ipython3",
   "version": "3.11.5"
  }
 },
 "nbformat": 4,
 "nbformat_minor": 5
}
